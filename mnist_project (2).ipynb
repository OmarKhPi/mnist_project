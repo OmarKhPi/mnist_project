{
  "nbformat": 4,
  "nbformat_minor": 0,
  "metadata": {
    "colab": {
      "provenance": []
    },
    "kernelspec": {
      "name": "python3",
      "display_name": "Python 3"
    },
    "language_info": {
      "name": "python"
    }
  },
  "cells": [
    {
      "cell_type": "code",
      "execution_count": 1,
      "metadata": {
        "id": "xGgEwCXoYDh0"
      },
      "outputs": [],
      "source": [
        "import numpy as np\n",
        "import tensorflow as tf\n",
        "import tensorflow_datasets as tfdf"
      ]
    },
    {
      "cell_type": "markdown",
      "source": [
        "# Loading the data set"
      ],
      "metadata": {
        "id": "yRKUfMWaYcJg"
      }
    },
    {
      "cell_type": "code",
      "source": [
        "mnist_data, mnist_info = tfdf.load(name='mnist', with_info=True, as_supervised=True)"
      ],
      "metadata": {
        "id": "7Wk4ph9aYO9s"
      },
      "execution_count": 12,
      "outputs": []
    },
    {
      "cell_type": "markdown",
      "source": [
        "# Data"
      ],
      "metadata": {
        "id": "xisaKxS0b6w6"
      }
    },
    {
      "cell_type": "markdown",
      "source": [
        "### Train-Test split"
      ],
      "metadata": {
        "id": "RCm5zHpyYZTR"
      }
    },
    {
      "cell_type": "code",
      "source": [
        "mnist_train , mnist_test = mnist_data['train'], mnist_data['test']\n",
        "\n",
        "num_test_samples = mnist_info.splits['test'].num_examples\n",
        "num_test_samples = tf.cast(mnist_test_samples, tf.int64)"
      ],
      "metadata": {
        "id": "LgbJD0wsZMsZ"
      },
      "execution_count": 24,
      "outputs": []
    },
    {
      "cell_type": "markdown",
      "source": [
        "### Validation set"
      ],
      "metadata": {
        "id": "NbOmcyQSab4j"
      }
    },
    {
      "cell_type": "code",
      "source": [
        "num_validation_sample = 0.1 * mnist_info.splits['train'].num_examples\n",
        "num_validation_sample = tf.cast(num_validation_sample, tf.int64)"
      ],
      "metadata": {
        "id": "2IwkfIzTZbTm"
      },
      "execution_count": 17,
      "outputs": []
    },
    {
      "cell_type": "markdown",
      "source": [
        "### Data preparation"
      ],
      "metadata": {
        "id": "8Q3l59hdcxkA"
      }
    },
    {
      "cell_type": "code",
      "source": [
        "# Creating a scaling function\n",
        "def scale(image, label):\n",
        "  image = tf.cast(image, tf.float32)\n",
        "  image /= 255\n",
        "  return image, label\n",
        "# Applying the scaling function\n",
        "scaled_train = mnist_train.map(scale)\n",
        "scaled_test = mnist_test.map(scale)\n",
        "\n",
        "# Shuffling the training data\n",
        "shuff_scaled_train = scaled_train.shuffle(buffer_size=10000)\n",
        "validation_data = shuff_scaled_train.take(num_validation_sample)\n",
        "train_data = shuff_scaled_train.skip(num_validation_sample)\n",
        "\n",
        "# Appling SGD\n",
        "train_data = train_data.batch(batch_size=100)\n",
        "validation_data = validation_data.batch(num_validation_sample)\n",
        "test_data = mnist_test.batch(num_test_samples)\n",
        "\n",
        "# Making sure that the validation data is also spilited\n",
        "validation_inputs, validation_targets = next(iter(validation_data))"
      ],
      "metadata": {
        "id": "C4X8u5ewaatF"
      },
      "execution_count": 31,
      "outputs": []
    },
    {
      "cell_type": "markdown",
      "source": [
        "# Outline the model"
      ],
      "metadata": {
        "id": "7UKXdgQyiL1n"
      }
    },
    {
      "cell_type": "code",
      "source": [
        "# Assigning the size of the model\n",
        "input_size = 784\n",
        "output_size = 10\n",
        "hidden_size = 150\n",
        "\n",
        "# Creating the model\n",
        "model = tf.keras.Sequential([\n",
        "                            tf.keras.layers.Flatten(input_shape = (28,28,1)),\n",
        "                            tf.keras.layers.Dense(hidden_size, activation='relu'),\n",
        "                            tf.keras.layers.Dense(hidden_size, activation='relu'),\n",
        "                            tf.keras.layers.Dense(output_size, activation='softmax')\n",
        "                            ])"
      ],
      "metadata": {
        "id": "Ozky2NAwdSRu"
      },
      "execution_count": 44,
      "outputs": []
    },
    {
      "cell_type": "markdown",
      "source": [
        "# Choosing the optimizer and the loss function"
      ],
      "metadata": {
        "id": "YI1KcsV5kfD_"
      }
    },
    {
      "cell_type": "code",
      "source": [
        "model.compile(optimizer='adam', loss='sparse_categorical_crossentropy', metrics=['accuracy'])"
      ],
      "metadata": {
        "id": "rNGzj7jBkq-U"
      },
      "execution_count": 45,
      "outputs": []
    },
    {
      "cell_type": "markdown",
      "source": [
        "# Model trainning"
      ],
      "metadata": {
        "id": "XsDmtCvtlbRw"
      }
    },
    {
      "cell_type": "code",
      "source": [
        "model.fit(train_data ,epochs=6, validation_data=(validation_inputs, validation_targets), verbose=2)"
      ],
      "metadata": {
        "colab": {
          "base_uri": "https://localhost:8080/"
        },
        "id": "ZMW6NhjFkpSb",
        "outputId": "a4da1c38-67b3-49ff-990c-87e5c61e82cd"
      },
      "execution_count": 48,
      "outputs": [
        {
          "output_type": "stream",
          "name": "stdout",
          "text": [
            "Epoch 1/6\n",
            "540/540 - 7s - 12ms/step - accuracy: 0.9880 - loss: 0.0380 - val_accuracy: 0.9893 - val_loss: 0.0402\n",
            "Epoch 2/6\n",
            "540/540 - 10s - 18ms/step - accuracy: 0.9899 - loss: 0.0310 - val_accuracy: 0.9863 - val_loss: 0.0436\n",
            "Epoch 3/6\n",
            "540/540 - 7s - 13ms/step - accuracy: 0.9920 - loss: 0.0257 - val_accuracy: 0.9905 - val_loss: 0.0312\n",
            "Epoch 4/6\n",
            "540/540 - 6s - 12ms/step - accuracy: 0.9931 - loss: 0.0216 - val_accuracy: 0.9908 - val_loss: 0.0289\n",
            "Epoch 5/6\n",
            "540/540 - 8s - 15ms/step - accuracy: 0.9938 - loss: 0.0198 - val_accuracy: 0.9915 - val_loss: 0.0260\n",
            "Epoch 6/6\n",
            "540/540 - 6s - 11ms/step - accuracy: 0.9951 - loss: 0.0163 - val_accuracy: 0.9937 - val_loss: 0.0177\n"
          ]
        },
        {
          "output_type": "execute_result",
          "data": {
            "text/plain": [
              "<keras.src.callbacks.history.History at 0x7fb982f71420>"
            ]
          },
          "metadata": {},
          "execution_count": 47
        },
        {
          "output_type": "stream",
          "name": "stdout",
          "text": [
            "Epoch 1/6\n",
            "540/540 - 4s - 8ms/step - accuracy: 0.9952 - loss: 0.0144 - val_accuracy: 0.9927 - val_loss: 0.0249\n",
            "Epoch 2/6\n",
            "540/540 - 4s - 7ms/step - accuracy: 0.9950 - loss: 0.0152 - val_accuracy: 0.9945 - val_loss: 0.0183\n",
            "Epoch 3/6\n",
            "540/540 - 6s - 11ms/step - accuracy: 0.9955 - loss: 0.0141 - val_accuracy: 0.9923 - val_loss: 0.0219\n",
            "Epoch 4/6\n",
            "540/540 - 4s - 7ms/step - accuracy: 0.9964 - loss: 0.0112 - val_accuracy: 0.9958 - val_loss: 0.0153\n",
            "Epoch 5/6\n",
            "540/540 - 5s - 9ms/step - accuracy: 0.9960 - loss: 0.0111 - val_accuracy: 0.9967 - val_loss: 0.0110\n",
            "Epoch 6/6\n",
            "540/540 - 5s - 10ms/step - accuracy: 0.9973 - loss: 0.0090 - val_accuracy: 0.9960 - val_loss: 0.0131\n"
          ]
        },
        {
          "output_type": "execute_result",
          "data": {
            "text/plain": [
              "<keras.src.callbacks.history.History at 0x7fb994e966e0>"
            ]
          },
          "metadata": {},
          "execution_count": 48
        }
      ]
    },
    {
      "cell_type": "markdown",
      "source": [
        "# Testing the model"
      ],
      "metadata": {
        "id": "mKaXnUiwpuTW"
      }
    },
    {
      "cell_type": "code",
      "source": [
        "test_loss, test_accuracy = model.evaluate(test_data)\n",
        "print('Test loss: {0:.2f}. Test accuracy: {1:.2f}%'.format(test_loss, test_accuracy*100.))"
      ],
      "metadata": {
        "colab": {
          "base_uri": "https://localhost:8080/"
        },
        "id": "r37puTvMkpVu",
        "outputId": "edb99828-dc1a-436c-bf49-3fb942892a42"
      },
      "execution_count": 51,
      "outputs": [
        {
          "output_type": "stream",
          "name": "stdout",
          "text": [
            "\u001b[1m1/1\u001b[0m \u001b[32m━━━━━━━━━━━━━━━━━━━━\u001b[0m\u001b[37m\u001b[0m \u001b[1m1s\u001b[0m 1s/step - accuracy: 0.9789 - loss: 23.0617\n",
            "Test loss: 23.06. Test accuracy: 97.89%\n"
          ]
        }
      ]
    },
    {
      "cell_type": "code",
      "source": [],
      "metadata": {
        "id": "ba2PfraoqZqE"
      },
      "execution_count": null,
      "outputs": []
    }
  ]
}